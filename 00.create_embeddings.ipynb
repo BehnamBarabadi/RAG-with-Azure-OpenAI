{
 "cells": [
  {
   "cell_type": "markdown",
   "metadata": {},
   "source": [
    "# **1. Create Embeddings using `sentence_transformers`** from Hugging Face\n",
    "The sentence_transformers model we're using is `all-MiniLM-L6-v2`. You can find more info about it here: https://huggingface.co/sentence-transformers/all-MiniLM-L6-v2"
   ]
  },
  {
   "cell_type": "code",
   "execution_count": 47,
   "metadata": {},
   "outputs": [],
   "source": [
    "(# pip install PyPDF2==3.0.1"
   ]
  },
  {
   "cell_type": "code",
   "execution_count": 2,
   "metadata": {},
   "outputs": [],
   "source": [
    "from pypdf import PdfReader\n",
    "from sentence_transformers import SentenceTransformer\n",
    "from dotenv import load_dotenv,dotenv_values\n",
    "import json"
   ]
  },
  {
   "cell_type": "code",
   "execution_count": 3,
   "metadata": {},
   "outputs": [],
   "source": [
    "# Specify the path to your source document\n",
    "FILE_PATH = r\"C:\\Users\\Seyed Barabadi\\Downloads\\Gen AI\\kebo104.pdf\""
   ]
  },
  {
   "cell_type": "code",
   "execution_count": 4,
   "metadata": {},
   "outputs": [
    {
     "data": {
      "text/plain": [
       "'all-MiniLM-L6-v2'"
      ]
     },
     "execution_count": 4,
     "metadata": {},
     "output_type": "execute_result"
    }
   ],
   "source": [
    "load_dotenv()\n",
    "\n",
    "# specify the address for the .env file where all the keys for different services are saved.\n",
    "values_env = dotenv_values(r\"C:\\Users\\Seyed Barabadi\\Downloads\\Gen AI\\AZURE-AI-VECTOR-SEARCH-main\\azure_ai_vector_search\\notebooks\\keys.env\")\n",
    "values_env\n",
    "\n",
    "# This model is used to create embeddings\n",
    "MODEL_NAME = values_env['MODEL_NAME']\n",
    "MODEL_NAME"
   ]
  },
  {
   "cell_type": "code",
   "execution_count": 12,
   "metadata": {},
   "outputs": [],
   "source": [
    "# Read the PDF file and return the text\n",
    "def get_pdf_data(file_path, num_pages = 1):\n",
    "    reader = PdfReader(file_path)\n",
    "    full_doc_text = \"\"\n",
    "    pages = reader.pages\n",
    "    num_pages = len(pages) \n",
    "    \n",
    "    try:\n",
    "        for page in range(num_pages):\n",
    "            current_page = reader.pages[page]\n",
    "            text = current_page.extract_text()\n",
    "            full_doc_text += text\n",
    "    except:\n",
    "        print(\"Error reading file\")\n",
    "    finally:\n",
    "        return full_doc_text"
   ]
  },
  {
   "cell_type": "markdown",
   "metadata": {},
   "source": [
    "## When deviding the input file into chuncks the best values are:\n",
    "\n",
    "> 512 tokens\n",
    "\n",
    "> 25% overlapping chuks\n"
   ]
  },
  {
   "cell_type": "code",
   "execution_count": 13,
   "metadata": {},
   "outputs": [],
   "source": [
    "import nltk.data\n",
    "\n",
    "def create_chunks(text, max_tokens=512, overlap_ratio=0.25):\n",
    "    # Tokenize the input text into sentences\n",
    "    tokenizer = nltk.data.load('tokenizers/punkt/english.pickle')\n",
    "    sentences = tokenizer.tokenize(text)\n",
    "\n",
    "    # Initialize variables\n",
    "    chunks = []\n",
    "    current_chunk = []\n",
    "    current_chunk_length = 0\n",
    "    first_chunk = True\n",
    "\n",
    "    # Check if adding the current sentence to the chunk would exceed the maximum new token limit\n",
    "    # becaue at the end we're adding 25% of the previous chunk, we need to adjust the limit  \n",
    "    adjusted_max_token_limit = max_tokens * (1 - overlap_ratio)\n",
    "\n",
    "    # Iterate over sentences to create chunks\n",
    "    for sentence in sentences:\n",
    "        tokens = nltk.word_tokenize(sentence)\n",
    "        num_tokens = len(tokens)\n",
    "        \n",
    "        if first_chunk:\n",
    "            adjusted_max_token_limit = max_tokens\n",
    "            first_chunk = False\n",
    "\n",
    "        if current_chunk_length + num_tokens > adjusted_max_token_limit:\n",
    "            # Append the current chunk to the list of chunks\n",
    "            chunks.append(current_chunk)\n",
    "\n",
    "            # Reset the current chunk and update its length\n",
    "            current_chunk = []\n",
    "            current_chunk_length = 0\n",
    "            max_tokens = max_tokens * (1 - overlap_ratio)\n",
    "\n",
    "        # Add the tokens of the current sentence to the current chunk\n",
    "        current_chunk.extend(tokens)\n",
    "        current_chunk_length += num_tokens\n",
    "\n",
    "    # Append the last chunk\n",
    "    if current_chunk:\n",
    "        chunks.append(current_chunk)\n",
    "\n",
    "    # Apply overlap between chunks\n",
    "    overlap_size = int(max_tokens * overlap_ratio)\n",
    "    for i in range(1, len(chunks)):\n",
    "        chunks[i] = chunks[i - 1][-overlap_size:] + chunks[i]\n",
    "\n",
    "    return [' '.join(chunk) for chunk in chunks]\n",
    "    # return chunks\n",
    "\n",
    "\n"
   ]
  },
  {
   "cell_type": "code",
   "execution_count": 33,
   "metadata": {},
   "outputs": [],
   "source": [
    "full_doc_text = get_pdf_data(FILE_PATH)"
   ]
  },
  {
   "cell_type": "code",
   "execution_count": 18,
   "metadata": {},
   "outputs": [
    {
     "name": "stdout",
     "output_type": "stream",
     "text": [
      "Full doc text length: 31306\n"
     ]
    }
   ],
   "source": [
    "print(f'Full doc text length: {len(full_doc_text)}')"
   ]
  },
  {
   "cell_type": "code",
   "execution_count": 34,
   "metadata": {},
   "outputs": [],
   "source": [
    "Lines = create_chunks(full_doc_text, 512)"
   ]
  },
  {
   "cell_type": "code",
   "execution_count": 35,
   "metadata": {},
   "outputs": [
    {
     "data": {
      "text/plain": [
       "12"
      ]
     },
     "execution_count": 35,
     "metadata": {},
     "output_type": "execute_result"
    }
   ],
   "source": [
    "len(Lines)"
   ]
  },
  {
   "cell_type": "code",
   "execution_count": 36,
   "metadata": {},
   "outputs": [
    {
     "data": {
      "text/plain": [
       "list"
      ]
     },
     "execution_count": 36,
     "metadata": {},
     "output_type": "execute_result"
    }
   ],
   "source": [
    "type(Lines)"
   ]
  },
  {
   "cell_type": "code",
   "execution_count": 37,
   "metadata": {},
   "outputs": [
    {
     "data": {
      "text/plain": [
       "'46 BIOLOGY When you look around , you will observe different animals with different structures and forms . As over a million species of animals have been described till now , the need for classification becomes all the more important . The classification also helps in assigning a systematic position to newly described species . 4.1 BASIS OF CLASSIFICATION Inspite of differences in structure and form of different animals , there are fundamental features common to various individuals in relation to the arrangement of cells , body symmetry , nature of coelom , patterns of digestive , circulatory or reproductive systems . These features are used as the basis of animal classification and some of them are discussed here . 4.1.1 Levels of Organisation Though all members of Animalia are multicellular , all of them do not exhibit the same pattern of organisation of cells . For example , in sponges , the cells are arranged as loose cell aggregates , i.e. , they exhibit cellular level of organisation . Some division of labour ( activities ) occur among the cells . In coelenterates , the arrangement of cells is more complex . Here the cells performing the same function are arranged into tissues , hence is called tissue level of organisation . A still higher level of organisation , i.e. , organ level is exhibited by members of Platyhelminthes and other higher phyla where tissues are grouped together to form organs , each specialised for a particular function . In animals like Annelids , Arthropods , Molluscs , ANIMAL KINGDOMCHAPTER 4 4.1Basis of Classification 4.2Classification of Animals 2015-16 ( 19/01/2015 ) ANIMAL KINGDOM 4747 ANIMAL KINGDOM Echinoderms and Chordates , organs have associated to form functional systems , each system concerned with a specific physiological function . This pattern is called organ system level of organisation . Organ systems in different groups of animals exhibit various patterns of complexities . For example , the digestive system in Platyhelminthes has only a single opening to the outside of the body that serves as both mouth and anus , and is hence called incomplete . A complete digestive system has two openings , mouth and anus . Similarly , the circulatory system may be of two types : ( i ) open type in which the blood is pumped out of the heart and the cells and tissues are directly bathed in it and ( ii ) closed type in which the blood is circulated through a series of vessels of varying diameters ( arteries , veins and capillaries ) . 4.1.2 Symmetry Animals can be categorised on the basis of their symmetry . Sponges are mostly asymmetrical , i.e. , any plane that passes through the centre does not divide them into equal halves . When any plane passing through the central axis of the body divides the organism into two identical halves , it is called radial symmetry . Coelenterates , ctenophores and echinoderms have this kind of body plan ( Figure 4.1a ) .'"
      ]
     },
     "execution_count": 37,
     "metadata": {},
     "output_type": "execute_result"
    }
   ],
   "source": [
    "Lines[0]"
   ]
  },
  {
   "cell_type": "code",
   "execution_count": 24,
   "metadata": {},
   "outputs": [
    {
     "data": {
      "application/vnd.jupyter.widget-view+json": {
       "model_id": "ec00c99d685b4c66a38033d1fb717cd6",
       "version_major": 2,
       "version_minor": 0
      },
      "text/plain": [
       "modules.json:   0%|          | 0.00/349 [00:00<?, ?B/s]"
      ]
     },
     "metadata": {},
     "output_type": "display_data"
    },
    {
     "name": "stderr",
     "output_type": "stream",
     "text": [
      "c:\\Anaconda\\lib\\site-packages\\huggingface_hub\\file_download.py:149: UserWarning: `huggingface_hub` cache-system uses symlinks by default to efficiently store duplicated files but your machine does not support them in C:\\Users\\Seyed Barabadi\\.cache\\huggingface\\hub\\models--sentence-transformers--all-MiniLM-L6-v2. Caching files will still work but in a degraded version that might require more space on your disk. This warning can be disabled by setting the `HF_HUB_DISABLE_SYMLINKS_WARNING` environment variable. For more details, see https://huggingface.co/docs/huggingface_hub/how-to-cache#limitations.\n",
      "To support symlinks on Windows, you either need to activate Developer Mode or to run Python as an administrator. In order to see activate developer mode, see this article: https://docs.microsoft.com/en-us/windows/apps/get-started/enable-your-device-for-development\n",
      "  warnings.warn(message)\n"
     ]
    },
    {
     "data": {
      "application/vnd.jupyter.widget-view+json": {
       "model_id": "547bdc58232549ec86fe9ee2f33d3d17",
       "version_major": 2,
       "version_minor": 0
      },
      "text/plain": [
       "config_sentence_transformers.json:   0%|          | 0.00/116 [00:00<?, ?B/s]"
      ]
     },
     "metadata": {},
     "output_type": "display_data"
    },
    {
     "data": {
      "application/vnd.jupyter.widget-view+json": {
       "model_id": "172d62267a804df7a3a736974b46d9fb",
       "version_major": 2,
       "version_minor": 0
      },
      "text/plain": [
       "README.md:   0%|          | 0.00/10.7k [00:00<?, ?B/s]"
      ]
     },
     "metadata": {},
     "output_type": "display_data"
    },
    {
     "data": {
      "application/vnd.jupyter.widget-view+json": {
       "model_id": "5d26fee3237846bb9d10a6e5e22dc107",
       "version_major": 2,
       "version_minor": 0
      },
      "text/plain": [
       "sentence_bert_config.json:   0%|          | 0.00/53.0 [00:00<?, ?B/s]"
      ]
     },
     "metadata": {},
     "output_type": "display_data"
    },
    {
     "data": {
      "application/vnd.jupyter.widget-view+json": {
       "model_id": "744c32eb203642f4949ff6aa177427c1",
       "version_major": 2,
       "version_minor": 0
      },
      "text/plain": [
       "config.json:   0%|          | 0.00/612 [00:00<?, ?B/s]"
      ]
     },
     "metadata": {},
     "output_type": "display_data"
    },
    {
     "data": {
      "application/vnd.jupyter.widget-view+json": {
       "model_id": "01ad5c9127fc42be9293a251bfdd9dd0",
       "version_major": 2,
       "version_minor": 0
      },
      "text/plain": [
       "model.safetensors:   0%|          | 0.00/90.9M [00:00<?, ?B/s]"
      ]
     },
     "metadata": {},
     "output_type": "display_data"
    },
    {
     "data": {
      "application/vnd.jupyter.widget-view+json": {
       "model_id": "2c0543758d084fbbadf7f343e82d3ed5",
       "version_major": 2,
       "version_minor": 0
      },
      "text/plain": [
       "tokenizer_config.json:   0%|          | 0.00/350 [00:00<?, ?B/s]"
      ]
     },
     "metadata": {},
     "output_type": "display_data"
    },
    {
     "data": {
      "application/vnd.jupyter.widget-view+json": {
       "model_id": "293574030c4b4abe911f1b1b28b81a65",
       "version_major": 2,
       "version_minor": 0
      },
      "text/plain": [
       "vocab.txt:   0%|          | 0.00/232k [00:00<?, ?B/s]"
      ]
     },
     "metadata": {},
     "output_type": "display_data"
    },
    {
     "data": {
      "application/vnd.jupyter.widget-view+json": {
       "model_id": "4939797b2b6348ae8bf5dace93ee99ab",
       "version_major": 2,
       "version_minor": 0
      },
      "text/plain": [
       "tokenizer.json:   0%|          | 0.00/466k [00:00<?, ?B/s]"
      ]
     },
     "metadata": {},
     "output_type": "display_data"
    },
    {
     "data": {
      "application/vnd.jupyter.widget-view+json": {
       "model_id": "f5eaff2502b34e5b851d6f91e25654ca",
       "version_major": 2,
       "version_minor": 0
      },
      "text/plain": [
       "special_tokens_map.json:   0%|          | 0.00/112 [00:00<?, ?B/s]"
      ]
     },
     "metadata": {},
     "output_type": "display_data"
    },
    {
     "data": {
      "application/vnd.jupyter.widget-view+json": {
       "model_id": "ba32690c6c4643e588d6a1d82e503e23",
       "version_major": 2,
       "version_minor": 0
      },
      "text/plain": [
       "1_Pooling/config.json:   0%|          | 0.00/190 [00:00<?, ?B/s]"
      ]
     },
     "metadata": {},
     "output_type": "display_data"
    }
   ],
   "source": [
    "model = SentenceTransformer(MODEL_NAME)"
   ]
  },
  {
   "cell_type": "code",
   "execution_count": 38,
   "metadata": {},
   "outputs": [
    {
     "data": {
      "application/vnd.jupyter.widget-view+json": {
       "model_id": "ac4b5cdee35545389f4b07fad358b9b1",
       "version_major": 2,
       "version_minor": 0
      },
      "text/plain": [
       "Batches:   0%|          | 0/1 [00:00<?, ?it/s]"
      ]
     },
     "metadata": {},
     "output_type": "display_data"
    }
   ],
   "source": [
    "embeddings_all = model.encode(Lines, show_progress_bar=True)"
   ]
  },
  {
   "cell_type": "code",
   "execution_count": 39,
   "metadata": {},
   "outputs": [
    {
     "data": {
      "text/plain": [
       "12"
      ]
     },
     "execution_count": 39,
     "metadata": {},
     "output_type": "execute_result"
    }
   ],
   "source": [
    "len(embeddings_all)"
   ]
  },
  {
   "cell_type": "code",
   "execution_count": 40,
   "metadata": {},
   "outputs": [
    {
     "data": {
      "text/plain": [
       "384"
      ]
     },
     "execution_count": 40,
     "metadata": {},
     "output_type": "execute_result"
    }
   ],
   "source": [
    "len(embeddings_all[4].tolist())"
   ]
  },
  {
   "cell_type": "code",
   "execution_count": 41,
   "metadata": {},
   "outputs": [
    {
     "data": {
      "text/plain": [
       "[0.007901678793132305,\n",
       " -0.02649737522006035,\n",
       " 0.03473445028066635,\n",
       " -0.03499046340584755,\n",
       " -0.10507051646709442]"
      ]
     },
     "execution_count": 41,
     "metadata": {},
     "output_type": "execute_result"
    }
   ],
   "source": [
    "embeddings_all[4].tolist()[:5]"
   ]
  },
  {
   "cell_type": "code",
   "execution_count": 42,
   "metadata": {},
   "outputs": [],
   "source": [
    "counter = 0\n",
    "input_data = []\n",
    "\n",
    "for line in Lines:\n",
    "    d = {}\n",
    "    d['id'] = str(counter)\n",
    "    d['line'] = line\n",
    "    d['embedding'] = embeddings_all[counter].tolist()\n",
    "    d['filename'] = FILE_PATH.split('\\\\')[-1]\n",
    "    counter +=  1\n",
    "    input_data.append(d)"
   ]
  },
  {
   "cell_type": "code",
   "execution_count": 43,
   "metadata": {},
   "outputs": [
    {
     "data": {
      "text/plain": [
       "12"
      ]
     },
     "execution_count": 43,
     "metadata": {},
     "output_type": "execute_result"
    }
   ],
   "source": [
    "len(input_data)"
   ]
  },
  {
   "cell_type": "code",
   "execution_count": 44,
   "metadata": {},
   "outputs": [
    {
     "data": {
      "text/plain": [
       "{'id': '0',\n",
       " 'line': '46 BIOLOGY When you look around , you will observe different animals with different structures and forms . As over a million species of animals have been described till now , the need for classification becomes all the more important . The classification also helps in assigning a systematic position to newly described species . 4.1 BASIS OF CLASSIFICATION Inspite of differences in structure and form of different animals , there are fundamental features common to various individuals in relation to the arrangement of cells , body symmetry , nature of coelom , patterns of digestive , circulatory or reproductive systems . These features are used as the basis of animal classification and some of them are discussed here . 4.1.1 Levels of Organisation Though all members of Animalia are multicellular , all of them do not exhibit the same pattern of organisation of cells . For example , in sponges , the cells are arranged as loose cell aggregates , i.e. , they exhibit cellular level of organisation . Some division of labour ( activities ) occur among the cells . In coelenterates , the arrangement of cells is more complex . Here the cells performing the same function are arranged into tissues , hence is called tissue level of organisation . A still higher level of organisation , i.e. , organ level is exhibited by members of Platyhelminthes and other higher phyla where tissues are grouped together to form organs , each specialised for a particular function . In animals like Annelids , Arthropods , Molluscs , ANIMAL KINGDOMCHAPTER 4 4.1Basis of Classification 4.2Classification of Animals 2015-16 ( 19/01/2015 ) ANIMAL KINGDOM 4747 ANIMAL KINGDOM Echinoderms and Chordates , organs have associated to form functional systems , each system concerned with a specific physiological function . This pattern is called organ system level of organisation . Organ systems in different groups of animals exhibit various patterns of complexities . For example , the digestive system in Platyhelminthes has only a single opening to the outside of the body that serves as both mouth and anus , and is hence called incomplete . A complete digestive system has two openings , mouth and anus . Similarly , the circulatory system may be of two types : ( i ) open type in which the blood is pumped out of the heart and the cells and tissues are directly bathed in it and ( ii ) closed type in which the blood is circulated through a series of vessels of varying diameters ( arteries , veins and capillaries ) . 4.1.2 Symmetry Animals can be categorised on the basis of their symmetry . Sponges are mostly asymmetrical , i.e. , any plane that passes through the centre does not divide them into equal halves . When any plane passing through the central axis of the body divides the organism into two identical halves , it is called radial symmetry . Coelenterates , ctenophores and echinoderms have this kind of body plan ( Figure 4.1a ) .',\n",
       " 'embedding': [0.006470810621976852,\n",
       "  -0.08753730356693268,\n",
       "  0.04347606003284454,\n",
       "  -0.027907921001315117,\n",
       "  -0.04146989807486534,\n",
       "  -0.03836102411150932,\n",
       "  -0.07839849591255188,\n",
       "  -0.05688079074025154,\n",
       "  0.06902027130126953,\n",
       "  0.06084722653031349,\n",
       "  -0.028128214180469513,\n",
       "  -0.08092377334833145,\n",
       "  -0.04204420745372772,\n",
       "  0.09324347972869873,\n",
       "  0.020069120451807976,\n",
       "  -0.06889338791370392,\n",
       "  -0.06715232133865356,\n",
       "  0.06380807608366013,\n",
       "  -0.04532937705516815,\n",
       "  0.069058358669281,\n",
       "  0.07901503145694733,\n",
       "  -0.0033272341825067997,\n",
       "  -0.017065657302737236,\n",
       "  -0.011673913337290287,\n",
       "  -0.08250045776367188,\n",
       "  -0.03569939360022545,\n",
       "  -0.029070919379591942,\n",
       "  0.014326260425150394,\n",
       "  -0.00599898723885417,\n",
       "  -0.07808858156204224,\n",
       "  0.014676018618047237,\n",
       "  0.07229382544755936,\n",
       "  0.12096485495567322,\n",
       "  -0.0036794375628232956,\n",
       "  -0.04882180690765381,\n",
       "  0.00715364096686244,\n",
       "  0.01940629817545414,\n",
       "  -0.0074262493290007114,\n",
       "  0.06618522852659225,\n",
       "  0.04794145002961159,\n",
       "  -0.03894586116075516,\n",
       "  -0.02164868824183941,\n",
       "  -0.05300278589129448,\n",
       "  -0.029924675822257996,\n",
       "  0.01833595335483551,\n",
       "  0.07940945774316788,\n",
       "  -0.04565536975860596,\n",
       "  -0.08293236792087555,\n",
       "  -0.04058361425995827,\n",
       "  -0.04161566495895386,\n",
       "  -0.07330048084259033,\n",
       "  -0.024911126121878624,\n",
       "  -0.08711237460374832,\n",
       "  0.10321427881717682,\n",
       "  -0.049421276897192,\n",
       "  0.03760312870144844,\n",
       "  -0.035940688103437424,\n",
       "  -0.03797093778848648,\n",
       "  -0.022030042484402657,\n",
       "  -0.11835350096225739,\n",
       "  0.028586994856595993,\n",
       "  -0.022563884034752846,\n",
       "  0.06786882877349854,\n",
       "  0.030418287962675095,\n",
       "  0.03913392126560211,\n",
       "  -0.007901953533291817,\n",
       "  0.009488759562373161,\n",
       "  0.008981253951787949,\n",
       "  0.013222669251263142,\n",
       "  -0.02914416790008545,\n",
       "  0.055313657969236374,\n",
       "  0.021237175911664963,\n",
       "  0.033421166241168976,\n",
       "  0.017995744943618774,\n",
       "  -0.011023168452084064,\n",
       "  0.02035442553460598,\n",
       "  -0.016744457185268402,\n",
       "  0.05696575716137886,\n",
       "  0.005343500524759293,\n",
       "  -0.055891502648591995,\n",
       "  0.0024934005923569202,\n",
       "  0.08074524998664856,\n",
       "  -0.001292150467634201,\n",
       "  -0.004463032819330692,\n",
       "  0.03276707977056503,\n",
       "  -0.022524431347846985,\n",
       "  -0.03260252624750137,\n",
       "  -0.021034706383943558,\n",
       "  -0.13736411929130554,\n",
       "  -0.013637897558510303,\n",
       "  0.02930825762450695,\n",
       "  -0.001080560265108943,\n",
       "  0.0021244206000119448,\n",
       "  -0.10618562251329422,\n",
       "  0.03755708411335945,\n",
       "  -0.002088613575324416,\n",
       "  0.08279461413621902,\n",
       "  -0.0054169935174286366,\n",
       "  0.18005229532718658,\n",
       "  -0.04470768943428993,\n",
       "  -0.03877700865268707,\n",
       "  -0.08180608600378036,\n",
       "  0.014502916485071182,\n",
       "  0.030593223869800568,\n",
       "  0.06956053525209427,\n",
       "  -0.05510091036558151,\n",
       "  -0.05260064825415611,\n",
       "  -0.050433557480573654,\n",
       "  0.06656364351511002,\n",
       "  -0.015687592327594757,\n",
       "  -0.08875957131385803,\n",
       "  0.02245132252573967,\n",
       "  -0.09109748154878616,\n",
       "  0.03848963603377342,\n",
       "  0.039122290909290314,\n",
       "  0.006737837102264166,\n",
       "  -0.06539542227983475,\n",
       "  -0.031947121024131775,\n",
       "  0.05798165500164032,\n",
       "  0.017127931118011475,\n",
       "  0.043729450553655624,\n",
       "  -0.06836335361003876,\n",
       "  0.06948629766702652,\n",
       "  -0.00923605915158987,\n",
       "  0.093918576836586,\n",
       "  0.04624747857451439,\n",
       "  -0.056134242564439774,\n",
       "  3.785737229514764e-33,\n",
       "  0.026648491621017456,\n",
       "  -0.10495112836360931,\n",
       "  -0.04852486401796341,\n",
       "  0.07234140485525131,\n",
       "  0.047217339277267456,\n",
       "  0.009427908807992935,\n",
       "  -0.02143958769738674,\n",
       "  -0.02367154136300087,\n",
       "  0.04015735909342766,\n",
       "  0.09085451811552048,\n",
       "  -0.0944657251238823,\n",
       "  0.11406650394201279,\n",
       "  0.04547901451587677,\n",
       "  0.02524424158036709,\n",
       "  0.0030608323868364096,\n",
       "  0.01503706630319357,\n",
       "  -0.03391535207629204,\n",
       "  0.034119345247745514,\n",
       "  0.0037644170224666595,\n",
       "  -0.031506575644016266,\n",
       "  -0.026373671367764473,\n",
       "  0.029314277693629265,\n",
       "  0.053541503846645355,\n",
       "  -0.05390932410955429,\n",
       "  0.007558987010270357,\n",
       "  -0.007033261004835367,\n",
       "  -0.07142562419176102,\n",
       "  -0.12785227596759796,\n",
       "  -0.09584119915962219,\n",
       "  -0.004377016797661781,\n",
       "  0.03298723325133324,\n",
       "  -0.10967682301998138,\n",
       "  -0.027839994058012962,\n",
       "  0.022535225376486778,\n",
       "  0.022228028625249863,\n",
       "  0.024135304614901543,\n",
       "  0.018690774217247963,\n",
       "  -0.03178109601140022,\n",
       "  0.020710304379463196,\n",
       "  -0.057985566556453705,\n",
       "  0.027678800746798515,\n",
       "  -0.07087857276201248,\n",
       "  0.033836882561445236,\n",
       "  -0.04068952798843384,\n",
       "  0.037448637187480927,\n",
       "  0.07755441963672638,\n",
       "  -0.033521007746458054,\n",
       "  0.014398274011909962,\n",
       "  -0.01020702812820673,\n",
       "  0.03511457517743111,\n",
       "  -0.004183625336736441,\n",
       "  0.006347977556288242,\n",
       "  0.1255749762058258,\n",
       "  -0.08102121949195862,\n",
       "  0.015414797700941563,\n",
       "  0.035238124430179596,\n",
       "  -0.044547274708747864,\n",
       "  -0.031168917194008827,\n",
       "  -0.09132492542266846,\n",
       "  0.019401809200644493,\n",
       "  0.017810577526688576,\n",
       "  0.03595319017767906,\n",
       "  -0.05070013180375099,\n",
       "  0.06327935308218002,\n",
       "  0.04720700904726982,\n",
       "  -0.02016513980925083,\n",
       "  -0.09793306887149811,\n",
       "  -0.00027316660271026194,\n",
       "  0.047727860510349274,\n",
       "  0.04060906544327736,\n",
       "  -0.02705743908882141,\n",
       "  -0.0015714468900114298,\n",
       "  -0.06289124488830566,\n",
       "  -0.04957449808716774,\n",
       "  0.005511241964995861,\n",
       "  0.02763218991458416,\n",
       "  0.040497418493032455,\n",
       "  -0.012384780682623386,\n",
       "  -0.14135462045669556,\n",
       "  -0.016164498403668404,\n",
       "  -0.04319441318511963,\n",
       "  0.08185191452503204,\n",
       "  -0.040706079453229904,\n",
       "  -0.04530671611428261,\n",
       "  -0.07159015536308289,\n",
       "  0.03518322482705116,\n",
       "  0.0997222438454628,\n",
       "  -0.03348405659198761,\n",
       "  0.06017807871103287,\n",
       "  0.03854401037096977,\n",
       "  -0.007192221004515886,\n",
       "  -0.023927124217152596,\n",
       "  0.008448396809399128,\n",
       "  0.011505364440381527,\n",
       "  0.08179929107427597,\n",
       "  -6.875730944188495e-33,\n",
       "  -0.0017399415373802185,\n",
       "  -0.042871590703725815,\n",
       "  -0.04224178194999695,\n",
       "  -0.05724614858627319,\n",
       "  -0.014440665021538734,\n",
       "  0.07650040835142136,\n",
       "  -0.003320411080494523,\n",
       "  -0.00898956973105669,\n",
       "  -0.017512675374746323,\n",
       "  0.03501207381486893,\n",
       "  5.151407458470203e-05,\n",
       "  0.08090028911828995,\n",
       "  -0.0006626461399719119,\n",
       "  -0.04484567418694496,\n",
       "  -0.0238479096442461,\n",
       "  -0.0034193291794508696,\n",
       "  -0.03473973646759987,\n",
       "  -0.014780581928789616,\n",
       "  0.0708177387714386,\n",
       "  -0.057879384607076645,\n",
       "  -0.0943557545542717,\n",
       "  0.03159856051206589,\n",
       "  -0.026364892721176147,\n",
       "  -0.012518849223852158,\n",
       "  -0.0022828602232038975,\n",
       "  0.05853268876671791,\n",
       "  -0.08536209911108017,\n",
       "  0.006383792497217655,\n",
       "  0.059046562761068344,\n",
       "  -0.02398945577442646,\n",
       "  -0.021618889644742012,\n",
       "  -0.05977874994277954,\n",
       "  0.03599666431546211,\n",
       "  0.015803717076778412,\n",
       "  0.020452512428164482,\n",
       "  -0.06846015900373459,\n",
       "  -0.02395142801105976,\n",
       "  -0.05053485557436943,\n",
       "  0.06788968294858932,\n",
       "  0.02250935696065426,\n",
       "  -0.014111737720668316,\n",
       "  0.01000775396823883,\n",
       "  -0.042648375034332275,\n",
       "  -0.02788752317428589,\n",
       "  0.06141308695077896,\n",
       "  -0.04390257969498634,\n",
       "  0.016510076820850372,\n",
       "  0.02049931138753891,\n",
       "  -0.049594443291425705,\n",
       "  0.05114929750561714,\n",
       "  0.030229542404413223,\n",
       "  -0.014514287002384663,\n",
       "  0.0019461156334728003,\n",
       "  -0.07771705090999603,\n",
       "  0.11566787958145142,\n",
       "  0.13076068460941315,\n",
       "  0.011606404557824135,\n",
       "  -0.0313507504761219,\n",
       "  0.0034532316494733095,\n",
       "  0.04322698339819908,\n",
       "  0.020974988117814064,\n",
       "  -0.01109759695827961,\n",
       "  0.02476446144282818,\n",
       "  0.08644047379493713,\n",
       "  -0.03411649912595749,\n",
       "  0.006047678645700216,\n",
       "  -0.022291133180260658,\n",
       "  -0.05320608243346214,\n",
       "  0.026378516107797623,\n",
       "  0.030948394909501076,\n",
       "  -0.010920013301074505,\n",
       "  -0.03191045671701431,\n",
       "  -0.03956449031829834,\n",
       "  -0.021408328786492348,\n",
       "  0.04448714479804039,\n",
       "  -0.005530705209821463,\n",
       "  -0.01801368035376072,\n",
       "  -0.05311544984579086,\n",
       "  -0.007095669861882925,\n",
       "  -0.00626886123791337,\n",
       "  -0.05185719579458237,\n",
       "  -0.05818328261375427,\n",
       "  0.011636767536401749,\n",
       "  -0.00948433019220829,\n",
       "  -0.03962353244423866,\n",
       "  0.032014403492212296,\n",
       "  0.03595101460814476,\n",
       "  0.10996454209089279,\n",
       "  0.07980369031429291,\n",
       "  -0.0392044372856617,\n",
       "  0.031174559146165848,\n",
       "  -0.07487910985946655,\n",
       "  -0.02898417040705681,\n",
       "  -0.009979198686778545,\n",
       "  0.02011639066040516,\n",
       "  -5.560403337767639e-08,\n",
       "  0.0001358506124233827,\n",
       "  -0.03317328542470932,\n",
       "  0.07229489088058472,\n",
       "  -0.05497967079281807,\n",
       "  0.024790795519948006,\n",
       "  -0.02722749672830105,\n",
       "  0.018367860466241837,\n",
       "  0.011756771244108677,\n",
       "  -0.010558925569057465,\n",
       "  0.09916964173316956,\n",
       "  0.01288647297769785,\n",
       "  0.03657574951648712,\n",
       "  -0.040913455188274384,\n",
       "  0.0532265342772007,\n",
       "  0.10235555469989777,\n",
       "  0.05635044723749161,\n",
       "  -0.020352883264422417,\n",
       "  -0.05264873430132866,\n",
       "  -0.05145956203341484,\n",
       "  0.020231053233146667,\n",
       "  -0.03058440238237381,\n",
       "  -0.057591360062360764,\n",
       "  -0.10636603832244873,\n",
       "  0.005774378310889006,\n",
       "  0.01295257918536663,\n",
       "  -0.08973663300275803,\n",
       "  -0.09032364189624786,\n",
       "  0.017959553748369217,\n",
       "  -0.07521386444568634,\n",
       "  0.0017477585934102535,\n",
       "  0.016131240874528885,\n",
       "  0.08763433247804642,\n",
       "  -0.029858063906431198,\n",
       "  -0.02546514756977558,\n",
       "  0.018647728487849236,\n",
       "  0.010708699934184551,\n",
       "  0.01878073439002037,\n",
       "  -0.04808444529771805,\n",
       "  -0.0043657259084284306,\n",
       "  0.016046660020947456,\n",
       "  0.021865922957658768,\n",
       "  -0.06162384897470474,\n",
       "  0.0027102255262434483,\n",
       "  0.02883140556514263,\n",
       "  0.07569438219070435,\n",
       "  0.021061662584543228,\n",
       "  0.020518722012639046,\n",
       "  -0.004266628064215183,\n",
       "  0.02607601508498192,\n",
       "  -0.025002537295222282,\n",
       "  -0.11141248047351837,\n",
       "  0.07088812440633774,\n",
       "  -0.044541310518980026,\n",
       "  -0.017309416085481644,\n",
       "  -0.06354181468486786,\n",
       "  0.02607901208102703,\n",
       "  -0.029311969876289368,\n",
       "  -0.012032934464514256,\n",
       "  0.08378730714321136,\n",
       "  -0.00426640547811985,\n",
       "  0.06788840144872665,\n",
       "  0.07513219118118286,\n",
       "  0.03795875236392021,\n",
       "  -0.04518059641122818],\n",
       " 'filename': 'kebo104.pdf'}"
      ]
     },
     "execution_count": 44,
     "metadata": {},
     "output_type": "execute_result"
    }
   ],
   "source": [
    "input_data[0]"
   ]
  },
  {
   "cell_type": "code",
   "execution_count": 46,
   "metadata": {},
   "outputs": [],
   "source": [
    "# Save embeddings to docVectors.json file\n",
    "with open(\"../output/docVectors.json\", \"w\") as f:\n",
    "    json.dump(input_data, f)"
   ]
  },
  {
   "cell_type": "markdown",
   "metadata": {},
   "source": [
    "$$End$$"
   ]
  },
  {
   "cell_type": "code",
   "execution_count": null,
   "metadata": {},
   "outputs": [],
   "source": []
  }
 ],
 "metadata": {
  "kernelspec": {
   "display_name": "myEnv",
   "language": "python",
   "name": "myenv"
  },
  "language_info": {
   "codemirror_mode": {
    "name": "ipython",
    "version": 3
   },
   "file_extension": ".py",
   "mimetype": "text/x-python",
   "name": "python",
   "nbconvert_exporter": "python",
   "pygments_lexer": "ipython3",
   "version": "3.8.8"
  }
 },
 "nbformat": 4,
 "nbformat_minor": 2
}
